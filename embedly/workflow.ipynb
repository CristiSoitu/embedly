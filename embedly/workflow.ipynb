{
 "cells": [
  {
   "cell_type": "code",
   "execution_count": 1,
   "metadata": {},
   "outputs": [
    {
     "name": "stderr",
     "output_type": "stream",
     "text": [
      "/Users/soitu/anaconda3/envs/cellpose3/lib/python3.8/site-packages/tqdm/auto.py:21: TqdmWarning: IProgress not found. Please update jupyter and ipywidgets. See https://ipywidgets.readthedocs.io/en/stable/user_install.html\n",
      "  from .autonotebook import tqdm as notebook_tqdm\n",
      "2024-12-13 15:44:19.751196: I tensorflow/core/platform/cpu_feature_guard.cc:182] This TensorFlow binary is optimized to use available CPU instructions in performance-critical operations.\n",
      "To enable the following instructions: AVX2 AVX512F AVX512_VNNI FMA, in other operations, rebuild TensorFlow with the appropriate compiler flags.\n"
     ]
    }
   ],
   "source": [
    "from embeddings import compute_umap, compute_tsne\n",
    "import tifffile as tif\n",
    "import numpy as np\n",
    "import pandas as pd\n",
    "import utils\n",
    "import visualizer\n",
    "import utils\n",
    "from sklearn.cluster import KMeans\n"
   ]
  },
  {
   "cell_type": "code",
   "execution_count": 2,
   "metadata": {},
   "outputs": [
    {
     "name": "stdout",
     "output_type": "stream",
     "text": [
      "Shape of images: (1000, 28, 28)\n",
      "Shape of images: (1000, 784)\n"
     ]
    }
   ],
   "source": [
    "# read images and convert to numpy array\n",
    "data_path = '../data/'\n",
    "images_path = data_path + 'images/'\n",
    "\n",
    "images_list = utils.list_files(images_path)\n",
    "\n",
    "images = []\n",
    "for image in images_list:\n",
    "    images.append(tif.imread(images_path + image))\n",
    "images = np.array(images)\n",
    "print('Shape of images:', images.shape)\n",
    "\n",
    "# convert to nx(d1*d2) array\n",
    "images = images.reshape(images.shape[0], -1)\n",
    "print('Shape of images:', images.shape)"
   ]
  },
  {
   "cell_type": "code",
   "execution_count": null,
   "metadata": {},
   "outputs": [
    {
     "name": "stderr",
     "output_type": "stream",
     "text": [
      "/Users/soitu/anaconda3/envs/cellpose3/lib/python3.8/site-packages/umap/umap_.py:1952: UserWarning:\n",
      "\n",
      "n_jobs value 1 overridden to 1 by setting random_state. Use no seed for parallelism.\n",
      "\n",
      "OMP: Info #273: omp_set_nested routine deprecated, please use omp_set_max_active_levels instead.\n"
     ]
    }
   ],
   "source": [
    "# Compute UMAP\n",
    "\n",
    "umap_embeddings = compute_umap(images, n_components=10, n_neighbors=15, min_dist=0.1, metric='euclidean')\n",
    "\n",
    "# Compute t-SNE\n",
    "#tsne_embeddings = compute_tsne(images, n_components=10, perplexity=30, metric='euclidean')\n",
    "\n",
    "# save all in a pandas dataframe\n",
    "df = pd.DataFrame()\n",
    "df['image'] = images_list\n",
    "df['umap_embedding_1'] = umap_embeddings[:, 0]\n",
    "df['umap_embedding_2'] = umap_embeddings[:, 1]\n",
    "\n"
   ]
  },
  {
   "cell_type": "code",
   "execution_count": 20,
   "metadata": {},
   "outputs": [
    {
     "name": "stderr",
     "output_type": "stream",
     "text": [
      "/Users/soitu/anaconda3/envs/cellpose3/lib/python3.8/site-packages/sklearn/cluster/_kmeans.py:1416: FutureWarning:\n",
      "\n",
      "The default value of `n_init` will change from 10 to 'auto' in 1.4. Set the value of `n_init` explicitly to suppress the warning\n",
      "\n"
     ]
    }
   ],
   "source": [
    "# add columns for the visualizer: x pixels, y pixels, url of the image in base64, some clustering\n",
    "\n",
    "df['url'] = np.nan\n",
    "df['x_px'] = 128\n",
    "df['y_px'] = 128\n",
    "\n",
    "for i, row in df.iterrows():\n",
    "    df.at[i, 'url'] = utils.encode_image_to_base64(images_path + row['image'])\n",
    "\n",
    "# k-means clustering on the reduced_embeddings\n",
    "kmeans = KMeans(n_clusters=10, random_state=0).fit(df[['umap_embedding_1', 'umap_embedding_2']])\n",
    "df['k_means'] = kmeans.labels_\n",
    "df.to_csv(data_path + 'embeddings.csv', index=False)\n"
   ]
  },
  {
   "cell_type": "code",
   "execution_count": 3,
   "metadata": {},
   "outputs": [
    {
     "name": "stdout",
     "output_type": "stream",
     "text": [
      "Dash app running on http://127.0.0.1:8050/\n"
     ]
    }
   ],
   "source": [
    "df = pd.read_csv(data_path + 'embeddings.csv')\n",
    "visualizer.viz_umap_plot(data_df=df, embeddings_col_0='umap_embedding_1', embeddings_col_1='umap_embedding_2', name_col='image', x_px_col='x_px', y_px_col='y_px', url_col='url')"
   ]
  },
  {
   "cell_type": "code",
   "execution_count": null,
   "metadata": {},
   "outputs": [],
   "source": []
  }
 ],
 "metadata": {
  "kernelspec": {
   "display_name": "cellpose3",
   "language": "python",
   "name": "python3"
  },
  "language_info": {
   "codemirror_mode": {
    "name": "ipython",
    "version": 3
   },
   "file_extension": ".py",
   "mimetype": "text/x-python",
   "name": "python",
   "nbconvert_exporter": "python",
   "pygments_lexer": "ipython3",
   "version": "3.8.19"
  }
 },
 "nbformat": 4,
 "nbformat_minor": 2
}
